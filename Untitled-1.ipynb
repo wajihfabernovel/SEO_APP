{
 "cells": [
  {
   "cell_type": "code",
   "execution_count": 9,
   "metadata": {},
   "outputs": [],
   "source": [
    "import polars as pl "
   ]
  },
  {
   "cell_type": "code",
   "execution_count": 10,
   "metadata": {},
   "outputs": [],
   "source": [
    "def projected_rankings(start_rank, desired_rank, months=12):\n",
    "    \"\"\"\n",
    "    Compute the projected rankings over a number of months given a starting rank and a desired final rank.\n",
    "    \"\"\"\n",
    "    # Calculate total improvement needed\n",
    "    total_improvement = start_rank - desired_rank\n",
    "    \n",
    "    # Set an initial improvement and adjust based on total improvement\n",
    "    # Set an initial improvement and adjust based on total improvement\n",
    "    initial_improvement = total_improvement / (2*months)\n",
    "\n",
    "    # Use a variable decrease rate based on total improvement\n",
    "    decrease_rate = -((-total_improvement) / ((months) ** 2)) / initial_improvement\n",
    "\n",
    "    # Calculate the monthly rankings\n",
    "    rankings = [start_rank]# Ensuring we don't overshoot the desired rank\n",
    "    for month in range(1, months + 1):\n",
    "        improvement = initial_improvement * (1 + decrease_rate * (13-month))\n",
    "        new_rank = max(rankings[-1] - improvement, desired_rank)  # Ensuring we don't overshoot the desired rank\n",
    "        rankings.append(round(new_rank))\n",
    "    \n",
    "    return rankings\n"
   ]
  },
  {
   "cell_type": "code",
   "execution_count": 11,
   "metadata": {},
   "outputs": [],
   "source": [
    "rankings = projected_rankings(20, 3)"
   ]
  },
  {
   "cell_type": "code",
   "execution_count": 12,
   "metadata": {},
   "outputs": [
    {
     "data": {
      "text/plain": [
       "[20, 18, 16, 14, 12, 10, 8, 7, 6, 5, 4, 3, 3]"
      ]
     },
     "execution_count": 12,
     "metadata": {},
     "output_type": "execute_result"
    }
   ],
   "source": [
    "rankings"
   ]
  },
  {
   "cell_type": "code",
   "execution_count": 13,
   "metadata": {},
   "outputs": [],
   "source": [
    "def projected_ranking_ranges(start_rank, desired_rank, months=12):\n",
    "    \"\"\"\n",
    "    Compute the projected ranking ranges over a number of months given a starting rank and a desired final rank.\n",
    "    \"\"\"\n",
    "    # Get the projected rankings\n",
    "    rankings = projected_rankings(start_rank, desired_rank, months)\n",
    "    \n",
    "    # Calculate the ranking ranges for each month\n",
    "    ranking_ranges = [(max(rank - 2, 1), min(rank + 1, start_rank)) for rank in rankings]  # Ensuring we stay within logical bounds\n",
    "    \n",
    "    return ranking_ranges"
   ]
  },
  {
   "cell_type": "code",
   "execution_count": 14,
   "metadata": {},
   "outputs": [],
   "source": [
    "ranges = projected_ranking_ranges(20,3)"
   ]
  },
  {
   "cell_type": "code",
   "execution_count": 16,
   "metadata": {},
   "outputs": [],
   "source": [
    "dict_ = {}\n",
    "for i in range (0,12): \n",
    "    dict_.update({f\"month_{i+1}\" : str(ranges[i])})\n",
    "table = pl.DataFrame(dict_)"
   ]
  },
  {
   "cell_type": "code",
   "execution_count": 37,
   "metadata": {},
   "outputs": [
    {
     "data": {
      "text/html": [
       "<div><style>\n",
       ".dataframe > thead > tr > th,\n",
       ".dataframe > tbody > tr > td {\n",
       "  text-align: right;\n",
       "  white-space: pre-wrap;\n",
       "}\n",
       "</style>\n",
       "<small>shape: (1, 12)</small><table border=\"1\" class=\"dataframe\"><thead><tr><th>month_1</th><th>month_2</th><th>month_3</th><th>month_4</th><th>month_5</th><th>month_6</th><th>month_7</th><th>month_8</th><th>month_9</th><th>month_10</th><th>month_11</th><th>month_12</th></tr><tr><td>str</td><td>str</td><td>str</td><td>str</td><td>str</td><td>str</td><td>str</td><td>str</td><td>str</td><td>str</td><td>str</td><td>str</td></tr></thead><tbody><tr><td>&quot;(18, 20)&quot;</td><td>&quot;(16, 19)&quot;</td><td>&quot;(14, 17)&quot;</td><td>&quot;(12, 15)&quot;</td><td>&quot;(10, 13)&quot;</td><td>&quot;(8, 11)&quot;</td><td>&quot;(6, 9)&quot;</td><td>&quot;(5, 8)&quot;</td><td>&quot;(4, 7)&quot;</td><td>&quot;(3, 6)&quot;</td><td>&quot;(2, 5)&quot;</td><td>&quot;(1, 4)&quot;</td></tr></tbody></table></div>"
      ],
      "text/plain": [
       "shape: (1, 12)\n",
       "┌──────────┬──────────┬──────────┬──────────┬───┬─────────┬──────────┬──────────┬──────────┐\n",
       "│ month_1  ┆ month_2  ┆ month_3  ┆ month_4  ┆ … ┆ month_9 ┆ month_10 ┆ month_11 ┆ month_12 │\n",
       "│ ---      ┆ ---      ┆ ---      ┆ ---      ┆   ┆ ---     ┆ ---      ┆ ---      ┆ ---      │\n",
       "│ str      ┆ str      ┆ str      ┆ str      ┆   ┆ str     ┆ str      ┆ str      ┆ str      │\n",
       "╞══════════╪══════════╪══════════╪══════════╪═══╪═════════╪══════════╪══════════╪══════════╡\n",
       "│ (18, 20) ┆ (16, 19) ┆ (14, 17) ┆ (12, 15) ┆ … ┆ (4, 7)  ┆ (3, 6)   ┆ (2, 5)   ┆ (1, 4)   │\n",
       "└──────────┴──────────┴──────────┴──────────┴───┴─────────┴──────────┴──────────┴──────────┘"
      ]
     },
     "execution_count": 37,
     "metadata": {},
     "output_type": "execute_result"
    }
   ],
   "source": [
    "table"
   ]
  },
  {
   "cell_type": "code",
   "execution_count": 18,
   "metadata": {},
   "outputs": [
    {
     "data": {
      "text/plain": [
       "'(3, 6)'"
      ]
     },
     "execution_count": 18,
     "metadata": {},
     "output_type": "execute_result"
    }
   ],
   "source": [
    "r = list(dict_.values())[9]\n",
    "r"
   ]
  },
  {
   "cell_type": "code",
   "execution_count": 22,
   "metadata": {},
   "outputs": [],
   "source": [
    "for i in range (0,12):  \n",
    "    r = list(dict_.values())[i]\n",
    "    int(r.split(\",\")[0][1:])"
   ]
  },
  {
   "cell_type": "code",
   "execution_count": 20,
   "metadata": {},
   "outputs": [],
   "source": [
    "r = list(dict_.values())[9]\n",
    "min_ = int(r.split(\",\")[0][1:])\n",
    "max_ = int(r.split(\",\")[1][1:-1])\n"
   ]
  },
  {
   "cell_type": "code",
   "execution_count": 263,
   "metadata": {},
   "outputs": [
    {
     "data": {
      "text/plain": [
       "9"
      ]
     },
     "execution_count": 263,
     "metadata": {},
     "output_type": "execute_result"
    }
   ],
   "source": []
  },
  {
   "cell_type": "code",
   "execution_count": 19,
   "metadata": {},
   "outputs": [
    {
     "name": "stdout",
     "output_type": "stream",
     "text": [
      "shape: (20, 2)\n",
      "┌──────────┬─────────┐\n",
      "│ position ┆ web_ctr │\n",
      "│ ---      ┆ ---     │\n",
      "│ i32      ┆ f64     │\n",
      "╞══════════╪═════════╡\n",
      "│ 1        ┆ 31.3    │\n",
      "│ 2        ┆ 14.94   │\n",
      "│ 3        ┆ 8.65    │\n",
      "│ 4        ┆ 5.73    │\n",
      "│ …        ┆ …       │\n",
      "│ 17       ┆ 0.95    │\n",
      "│ 18       ┆ 0.9     │\n",
      "│ 19       ┆ 0.81    │\n",
      "│ 20       ┆ 0.74    │\n",
      "└──────────┴─────────┘\n"
     ]
    }
   ],
   "source": [
    "import requests\n",
    "import polars as pl \n",
    "web_date = \"2023-09-15\"\n",
    "web_search = \"allSearches\"\n",
    "web_val = \"exact\"\n",
    "web_device = \"allDevices\"\n",
    "web_aud = \"international\"\n",
    "try:     \n",
    "    myAPIToken = 'c186250c0f3ba9502c38caa53efc7edb'\n",
    "    params = {\n",
    "        \"action\": \"export_ctr\",\n",
    "        \"token\": myAPIToken,  # Get token from environment variable\n",
    "        \"inputs\": f'{{\"date\":\"{web_date}\", \"searches-type\":\"{web_search}\", \"value\":\"{web_val}\", \"device\":\"{web_device}\", \"audience\":\"{web_aud}\", \"format\":\"json\"}}'\n",
    "    }\n",
    "    \n",
    "    url = f\"https://api.awrcloud.com/v2/get.php\"\n",
    "\n",
    "    response = requests.get(url, params=params)\n",
    "\n",
    "    # Make sure the request was successful before processing\n",
    "    data = response.json()\n",
    "    web_ranking = pl.DataFrame(data[\"details\"]).with_columns(pl.col(\"position\").cast(pl.Int32).alias(\"position\")).select([\"position\",\"web_ctr\"])\n",
    "    web_ranking\n",
    "    print(web_ranking)\n",
    "except : \n",
    "    print(\"error 1\")"
   ]
  },
  {
   "cell_type": "code",
   "execution_count": 52,
   "metadata": {},
   "outputs": [
    {
     "data": {
      "text/plain": [
       "{'month_1': 0.8166666666666667,\n",
       " 'month_2': 0.8866666666666667,\n",
       " 'month_3': 1.0266666666666666,\n",
       " 'month_4': 1.0866666666666667,\n",
       " 'month_5': 1.0766666666666667,\n",
       " 'month_6': 1.2266666666666666,\n",
       " 'month_7': 1.7833333333333334,\n",
       " 'month_8': 2.2933333333333334,\n",
       " 'month_9': 3.08,\n",
       " 'month_10': 4.25,\n",
       " 'month_11': 6.156666666666667,\n",
       " 'month_12': 9.773333333333333}"
      ]
     },
     "execution_count": 52,
     "metadata": {},
     "output_type": "execute_result"
    }
   ],
   "source": [
    "dict"
   ]
  },
  {
   "cell_type": "code",
   "execution_count": null,
   "metadata": {},
   "outputs": [],
   "source": [
    "r = list(dict.values())[9]\n",
    "min_ = int(r.split(\",\")[0][1:])\n",
    "max_ = int(r.split(\",\")[1][1:-1])"
   ]
  },
  {
   "cell_type": "code",
   "execution_count": 50,
   "metadata": {},
   "outputs": [],
   "source": [
    "for i in range (0,12):  \n",
    "    \n",
    "    r = list(dict.values())[i]\n",
    "    min_ = int(r.split(\",\")[0][1:])\n",
    "    max_ = int(r.split(\",\")[1][1:-1])\n",
    "    dict.update({f\"month_{i+1}\" : mean((web_ranking.filter(pl.col(\"position\")==max_).select(\"web_ctr\").item(),web_ranking.filter(pl.col(\"position\")==max_-1).select(\"web_ctr\").item(),web_ranking.filter(pl.col(\"position\")==max_-2).select(\"web_ctr\").item()))})\n",
    "    #new= pl.DataFrame({\"ctr\": [mean((web_ranking.filter(pl.col(\"position\")==max_).select(\"web_ctr\").item(),web_ranking.filter(pl.col(\"position\")==max_-1).select(\"web_ctr\").item(),web_ranking.filter(pl.col(\"position\")==max_-2).select(\"web_ctr\").item()))]})\n",
    "ctr = pl.DataFrame(dict)"
   ]
  },
  {
   "cell_type": "code",
   "execution_count": 51,
   "metadata": {},
   "outputs": [
    {
     "data": {
      "text/html": [
       "<div><style>\n",
       ".dataframe > thead > tr > th,\n",
       ".dataframe > tbody > tr > td {\n",
       "  text-align: right;\n",
       "  white-space: pre-wrap;\n",
       "}\n",
       "</style>\n",
       "<small>shape: (1, 12)</small><table border=\"1\" class=\"dataframe\"><thead><tr><th>month_1</th><th>month_2</th><th>month_3</th><th>month_4</th><th>month_5</th><th>month_6</th><th>month_7</th><th>month_8</th><th>month_9</th><th>month_10</th><th>month_11</th><th>month_12</th></tr><tr><td>f64</td><td>f64</td><td>f64</td><td>f64</td><td>f64</td><td>f64</td><td>f64</td><td>f64</td><td>f64</td><td>f64</td><td>f64</td><td>f64</td></tr></thead><tbody><tr><td>0.816667</td><td>0.886667</td><td>1.026667</td><td>1.086667</td><td>1.076667</td><td>1.226667</td><td>1.783333</td><td>2.293333</td><td>3.08</td><td>4.25</td><td>6.156667</td><td>9.773333</td></tr></tbody></table></div>"
      ],
      "text/plain": [
       "shape: (1, 12)\n",
       "┌──────────┬──────────┬──────────┬──────────┬───┬─────────┬──────────┬──────────┬──────────┐\n",
       "│ month_1  ┆ month_2  ┆ month_3  ┆ month_4  ┆ … ┆ month_9 ┆ month_10 ┆ month_11 ┆ month_12 │\n",
       "│ ---      ┆ ---      ┆ ---      ┆ ---      ┆   ┆ ---     ┆ ---      ┆ ---      ┆ ---      │\n",
       "│ f64      ┆ f64      ┆ f64      ┆ f64      ┆   ┆ f64     ┆ f64      ┆ f64      ┆ f64      │\n",
       "╞══════════╪══════════╪══════════╪══════════╪═══╪═════════╪══════════╪══════════╪══════════╡\n",
       "│ 0.816667 ┆ 0.886667 ┆ 1.026667 ┆ 1.086667 ┆ … ┆ 3.08    ┆ 4.25     ┆ 6.156667 ┆ 9.773333 │\n",
       "└──────────┴──────────┴──────────┴──────────┴───┴─────────┴──────────┴──────────┴──────────┘"
      ]
     },
     "execution_count": 51,
     "metadata": {},
     "output_type": "execute_result"
    }
   ],
   "source": [
    "ctr"
   ]
  },
  {
   "cell_type": "code",
   "execution_count": null,
   "metadata": {},
   "outputs": [],
   "source": []
  }
 ],
 "metadata": {
  "kernelspec": {
   "display_name": "Python 3",
   "language": "python",
   "name": "python3"
  },
  "language_info": {
   "codemirror_mode": {
    "name": "ipython",
    "version": 3
   },
   "file_extension": ".py",
   "mimetype": "text/x-python",
   "name": "python",
   "nbconvert_exporter": "python",
   "pygments_lexer": "ipython3",
   "version": "3.11.5"
  }
 },
 "nbformat": 4,
 "nbformat_minor": 2
}
